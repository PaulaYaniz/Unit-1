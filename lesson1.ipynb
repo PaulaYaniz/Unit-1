{
  "nbformat": 4,
  "nbformat_minor": 0,
  "metadata": {
    "colab": {
      "name": "lesson1.ipynb",
      "provenance": [],
      "authorship_tag": "ABX9TyP0iq8kEZ8bgT56Bv6Oxwtq",
      "include_colab_link": true
    },
    "kernelspec": {
      "name": "python3",
      "display_name": "Python 3"
    },
    "language_info": {
      "name": "python"
    }
  },
  "cells": [
    {
      "cell_type": "markdown",
      "metadata": {
        "id": "view-in-github",
        "colab_type": "text"
      },
      "source": [
        "<a href=\"https://colab.research.google.com/github/PaulaYaniz/Unit-1/blob/main/lesson1.ipynb\" target=\"_parent\"><img src=\"https://colab.research.google.com/assets/colab-badge.svg\" alt=\"Open In Colab\"/></a>"
      ]
    },
    {
      "cell_type": "markdown",
      "metadata": {
        "id": "zNpoU9trQvlv"
      },
      "source": [
        "# Programming practice #1\n",
        "\n",
        "① Write a program that calculates the addition of all integer numbers from 0 to 2021.\n",
        "\n",
        "$$Total = n(n+1)/2$$\n",
        "\n",
        "\n"
      ]
    },
    {
      "cell_type": "code",
      "metadata": {
        "id": "K5UGV1D-WQin"
      },
      "source": [
        "# Calculate the addition of all integers up to n\n",
        "# using the arithmetic sequence\n",
        "\n",
        "# the input function always give us a string. I can use the int() function to convert the number\n",
        "n = int( input(\"Please enter an integer larger than zero: \") )\n",
        "\n",
        "total =( n * (n+1) )/2\n",
        "\n",
        "# using f-string to shown the result\n",
        "print(f\"The total is {total}\")\n",
        "# the classic style\n",
        "print(\"The total is \", total)\n"
      ],
      "execution_count": null,
      "outputs": []
    },
    {
      "cell_type": "markdown",
      "metadata": {
        "id": "b4fPR5Y1rR3N"
      },
      "source": [
        "② Write a program that calculates the value of y when the user enters a integer x\n",
        "$$y = 2*(x+3) - 3 $$\n"
      ]
    },
    {
      "cell_type": "code",
      "metadata": {
        "colab": {
          "base_uri": "https://localhost:8080/"
        },
        "id": "wZJR-aINrdrn",
        "outputId": "fc311125-eaeb-450b-d2b9-444f3442708a"
      },
      "source": [
        "# Step 1: get the input from the user\n",
        "# Step 2: convert the input which is string to number\n",
        "# Step 3: asign (save, store) the input to variable x\n",
        "x = int( input(\"Please enter the value for x: \"))\n",
        "\n",
        "# Step 4: write the equation for y\n",
        "y = 2 * (x + 3) - 3\n",
        "# Step 5: show the result\n",
        "print(\"The value of y is \", y)\n"
      ],
      "execution_count": 1,
      "outputs": [
        {
          "output_type": "stream",
          "name": "stdout",
          "text": [
            "Please enter the value for x 3\n",
            "The value of y is  9\n"
          ]
        }
      ]
    },
    {
      "cell_type": "markdown",
      "metadata": {
        "id": "grUznl32toQV"
      },
      "source": [
        "③ Write a program that asks the user for his name and grade and outputs the user’s email address at UWC ISAK:\n",
        "\n",
        "Example:\n",
        "\n",
        "Input:\n",
        "\n",
        "name: John Doe\n",
        "\n",
        "grade: 10\n",
        "\n",
        "Output:\n",
        "\n",
        "2024.john.doe@uwcisak.jp\n",
        "\n"
      ]
    },
    {
      "cell_type": "code",
      "metadata": {
        "colab": {
          "base_uri": "https://localhost:8080/"
        },
        "id": "W1Y2QJlxuivt",
        "outputId": "50dcc927-270e-4645-a463-a30d3010c735"
      },
      "source": [
        "# Step 1: ask user for first name and then last name, and grade\n",
        "first_name = input(\"Please enter your first name: \")\n",
        "last_name = input(\"Please enter your last name: \")\n",
        "grade = int(input(\"Please enter your grade [10, 11, 12]: \"))\n",
        "\n",
        "# Step 2:\n",
        "#patter recognition\n",
        "# 2024 =>10. you can get this by 2034-10\n",
        "# 2023 =>11. you can get this by 2034-11\n",
        "# 2022 =>12. you can get this by 2034-12\n",
        "year = 2034 - grade\n",
        "\n",
        "#Step 3:\n",
        "print(f\"Your email address is {year}.{first_name}.{last_name}@uwcisak.jp\")"
      ],
      "execution_count": 1,
      "outputs": [
        {
          "output_type": "stream",
          "name": "stdout",
          "text": [
            "Please enter your first name: Paula\n",
            "Please enter your last name: Yaniz\n",
            "Please enter your grade [10, 11, 12]: 11\n",
            "Your email address is 2023.Paula.Yaniz@uwcisak.jp\n"
          ]
        }
      ]
    },
    {
      "cell_type": "markdown",
      "metadata": {
        "id": "tUOvvx68xoHn"
      },
      "source": [
        "④ Write a program that converts a temperature from Fahrenheit to Celsius. \n",
        "\n",
        "\n"
      ]
    },
    {
      "cell_type": "code",
      "metadata": {
        "colab": {
          "base_uri": "https://localhost:8080/"
        },
        "id": "DwM7G31-xqwt",
        "outputId": "569d750f-846d-4d3b-9383-c0c57e00126f"
      },
      "source": [
        "#Formula: (32°F − 32) * 5/9 = 0°C\n",
        "Fahrenheit = int(input(\"Enter the Fahrenheit temperature you want to convert to Celsius: \"))\n",
        "\n",
        "Celsius = (Fahrenheit - 32) * 5/9\n",
        "\n",
        "print(f\"{Fahrenheit}ºF is equivalent to {Celsius}ºC\")"
      ],
      "execution_count": 16,
      "outputs": [
        {
          "output_type": "stream",
          "name": "stdout",
          "text": [
            "Enter the Fahrenheit temperature you want to convert to Celsius: 77\n",
            "77ºF is equivalent to 25.0ºC\n"
          ]
        }
      ]
    },
    {
      "cell_type": "markdown",
      "metadata": {
        "id": "wEFw479wxrGM"
      },
      "source": [
        "⑤ Write a program to convert from miles to kilometers。\n",
        "\n",
        "$$miles = 1.609* kilometers$$"
      ]
    },
    {
      "cell_type": "code",
      "metadata": {
        "colab": {
          "base_uri": "https://localhost:8080/"
        },
        "id": "K8rxuToexttE",
        "outputId": "46a103bf-47fc-4ad5-e9ac-b5f106b59e22"
      },
      "source": [
        "#Formula: miles * 1.609 = Km\n",
        "Miles = int(input(\"Miles: \"))\n",
        "\n",
        "Km = Miles * 1.609\n",
        "\n",
        "print(f\"{Miles} miles is equivalent to {Km} kilometers.\")"
      ],
      "execution_count": 18,
      "outputs": [
        {
          "output_type": "stream",
          "name": "stdout",
          "text": [
            "Miles: 2\n",
            "2 miles is equivalent to 3.218 kilometers.\n"
          ]
        }
      ]
    },
    {
      "cell_type": "markdown",
      "metadata": {
        "id": "L81-FxtuxuRO"
      },
      "source": [
        "⑥ Write a program that solves the Quadratic Equation for valid inputs a, b, c。　\n"
      ]
    },
    {
      "cell_type": "code",
      "metadata": {
        "id": "q-QPenQgxwal"
      },
      "source": [
        ""
      ],
      "execution_count": null,
      "outputs": []
    },
    {
      "cell_type": "markdown",
      "metadata": {
        "id": "SBzWfGY0xw7M"
      },
      "source": [
        "⑦ Write a program to reverse a number entered by the user。\n"
      ]
    },
    {
      "cell_type": "code",
      "metadata": {
        "id": "B0A7rqxmxzEN"
      },
      "source": [
        ""
      ],
      "execution_count": null,
      "outputs": []
    },
    {
      "cell_type": "markdown",
      "metadata": {
        "id": "QOSHnpyGxzq0"
      },
      "source": [
        "⑧ Write a program that asks the user for their name, age, nationality and produces a greeting message such as “Welcome John Doe you are 30 years old and a national of Colombia”\n"
      ]
    },
    {
      "cell_type": "code",
      "metadata": {
        "id": "1EJo2RICx2BL"
      },
      "source": [
        "name = input(\"What's your name?: \")\n",
        "age = int(input(\"How old are you?: \"))\n",
        "country = input(\"Which country were you born in?: \")\n",
        "\n",
        "print(f\"Welcome {name}, you are {age} years old and a national of {country}.\")"
      ],
      "execution_count": null,
      "outputs": []
    },
    {
      "cell_type": "markdown",
      "metadata": {
        "id": "69aEMaYYx2T0"
      },
      "source": [
        "⑨ Create one more program that converts between different units.\n"
      ]
    },
    {
      "cell_type": "code",
      "metadata": {
        "colab": {
          "base_uri": "https://localhost:8080/"
        },
        "id": "Y09wqDA8x4X0",
        "outputId": "8cc28425-5132-4df6-e051-10e348803b10"
      },
      "source": [
        "#Liters to cubic meters\n",
        "\n",
        "Liters = int(input(\"Liters: \"))\n",
        "\n",
        "Cubic_meters = Liters / 1000\n",
        "\n",
        "print(f\"{Liters} liters is equivalent to {Cubic_meters} cubic meters.\")"
      ],
      "execution_count": 20,
      "outputs": [
        {
          "output_type": "stream",
          "name": "stdout",
          "text": [
            "Liters: 489\n",
            "489 liters is equivalent to 0.489 cubic meters.\n"
          ]
        }
      ]
    }
  ]
}